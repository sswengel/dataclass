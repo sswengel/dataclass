{
 "cells": [
  {
   "cell_type": "markdown",
   "id": "ef016bd6",
   "metadata": {},
   "source": [
    "<h1>Spotify API Listening Report</h1>\n",
    "\n",
    "<h4>Sophia Swengel</h4>\n",
    "\n",
    "October 15, 2023\n",
    "\n",
    "<hr/>\n",
    "\n",
    "<p>Discussion of Spotify's algorithms can often seem more common that discussion of the app itself, with users discovering and exploring new music through Spotify's automated recommendation system and playlists every day. I personally find its algorithms fascinating and utilize them in my use of the app. As a listener of many types of music often disparate in sound, genre, and popularity, I seek to ask <b>which is more important to Spotify's recommendation algorithm: song characteristics (or 'audio features') or song popularity?</b></p>\n",
    "\n",
    "<p>In my personal experience, recommendations are highly tied to popularity. When I listen to artists who have pushed millions, even when listening to more obscure or unorthodox sounding works by them, I get artists who push millions coming up after them regardless of sonics. When I listen to obscure independent groups, however, I always get bands I've never heard of with a similar sound coming up next. From this, I hypothesize that <b>Spotify's recommendation system values song popularity over audio features.</b></p>\n",
    "\n",
    "<p>Our hypothesis will be tested with the song \"Astronomy Domine\" by Pink Floyd for numerous reasons:</p>\n",
    "\n",
    "<ol>\n",
    "    <li>It is a great song.</li>\n",
    "    <li>Pink Floyd are a very well known and widely listened to band.</li>\n",
    "    <li>This song in particular straddles an interesting line in the band's discography. It is a beloved and well recognizable track, but it is closer sonically to garage rock music of the time, whose artists are often very unpopular compared to Pink Floyd, than the grandiose sounds that would grant the band international fame later in their career. This <i>does</i> open up the possibility of more obscure sounds appearing in its recommendations through shared audio features.</li>\n",
    "</ol>"
   ]
  },
  {
   "cell_type": "markdown",
   "id": "e20636bf",
   "metadata": {},
   "source": [
    "<h3>Process</h3>\n",
    "\n",
    "<p>We can use the Spotify API to examine the recommendations of a song on Spotify, their audio features, and their values of popularity.</p>\n",
    "\n",
    "<p>First, we import all of the assets we will need to analyze the data as well as the client ID, secret, and credibility needed to access the Spotify API.</p>"
   ]
  },
  {
   "cell_type": "code",
   "execution_count": 1,
   "id": "4aa2cd05",
   "metadata": {},
   "outputs": [],
   "source": [
    "import requests\n",
    "import pandas as pd\n",
    "import base64\n",
    "import json\n",
    "import urllib"
   ]
  },
  {
   "cell_type": "code",
   "execution_count": 2,
   "id": "6749aab1",
   "metadata": {},
   "outputs": [],
   "source": [
    "client_id = pd.read_csv('Spotify_Keys_September_19.txt')['Client_ID'].iloc[0]\n",
    "# client_id"
   ]
  },
  {
   "cell_type": "code",
   "execution_count": 3,
   "id": "71bbe5dc",
   "metadata": {},
   "outputs": [],
   "source": [
    "client_secret = pd.read_csv('Spotify_Keys_September_19.txt')['Client_Secret'].iloc[0]\n",
    "# client_secret"
   ]
  },
  {
   "cell_type": "code",
   "execution_count": 4,
   "id": "782efbe2",
   "metadata": {},
   "outputs": [],
   "source": [
    "client_cred = base64.b64encode(str(client_id + \":\" + client_secret).encode('ascii'))\n",
    "# client_cred"
   ]
  },
  {
   "cell_type": "markdown",
   "id": "49176858",
   "metadata": {},
   "source": [
    "Then, we load the API headers and session headers."
   ]
  },
  {
   "cell_type": "code",
   "execution_count": 5,
   "id": "6fa75054",
   "metadata": {},
   "outputs": [],
   "source": [
    "headers = {\"Authorization\": \"Basic {}\".format(client_cred.decode(\"ascii\"))}\n",
    "# headers"
   ]
  },
  {
   "cell_type": "code",
   "execution_count": 6,
   "id": "b959c721",
   "metadata": {},
   "outputs": [],
   "source": [
    "payload = {'grant_type' : 'client_credentials'}\n",
    "url = 'https://accounts.spotify.com/api/token'"
   ]
  },
  {
   "cell_type": "code",
   "execution_count": 7,
   "id": "4d789ec2",
   "metadata": {},
   "outputs": [
    {
     "data": {
      "text/plain": [
       "200"
      ]
     },
     "execution_count": 7,
     "metadata": {},
     "output_type": "execute_result"
    }
   ],
   "source": [
    "session_key_response = requests.post(url = url, data = payload, headers = headers)\n",
    "session_key_response.status_code"
   ]
  },
  {
   "cell_type": "code",
   "execution_count": 8,
   "id": "ae1d4c0e",
   "metadata": {},
   "outputs": [],
   "source": [
    "session_header_key = session_key_response.json()"
   ]
  },
  {
   "cell_type": "code",
   "execution_count": 9,
   "id": "833bdf7e",
   "metadata": {},
   "outputs": [],
   "source": [
    "key = session_header_key['access_token']"
   ]
  },
  {
   "cell_type": "code",
   "execution_count": 10,
   "id": "6b651e7f",
   "metadata": {},
   "outputs": [],
   "source": [
    "session_headers = {\"Authorization\": \"Bearer {}\".format(key)}\n",
    "# session_headers"
   ]
  },
  {
   "cell_type": "markdown",
   "id": "32a6c421",
   "metadata": {},
   "source": [
    "<h4>The song itself</h4>\n",
    "\n",
    "<p>Going into the Spotify application allows us to view the ID of a song. We use this ID to load our chosen song into our data analysis with the API.</p>"
   ]
  },
  {
   "cell_type": "code",
   "execution_count": 11,
   "id": "bb30a260",
   "metadata": {},
   "outputs": [],
   "source": [
    "pf_id = '3Y8gNcoJu1uJ5L1BZuGvqB'"
   ]
  },
  {
   "cell_type": "code",
   "execution_count": 12,
   "id": "abb10a41",
   "metadata": {},
   "outputs": [],
   "source": [
    "track_url = 'https://api.spotify.com/v1/tracks/{}'.format(pf_id)"
   ]
  },
  {
   "cell_type": "code",
   "execution_count": 13,
   "id": "fe3869ca",
   "metadata": {},
   "outputs": [
    {
     "data": {
      "text/plain": [
       "<Response [200]>"
      ]
     },
     "execution_count": 13,
     "metadata": {},
     "output_type": "execute_result"
    }
   ],
   "source": [
    "pf_response = requests.get(url = track_url, headers = session_headers)\n",
    "pf_response"
   ]
  },
  {
   "cell_type": "markdown",
   "id": "056e6e9d",
   "metadata": {},
   "source": [
    "Audio features of the song itself"
   ]
  },
  {
   "cell_type": "code",
   "execution_count": 14,
   "id": "a12bf5f4",
   "metadata": {},
   "outputs": [
    {
     "data": {
      "text/plain": [
       "'https://api.spotify.com/v1/audio-features/3Y8gNcoJu1uJ5L1BZuGvqB'"
      ]
     },
     "execution_count": 14,
     "metadata": {},
     "output_type": "execute_result"
    }
   ],
   "source": [
    "pf_features_url = 'https://api.spotify.com/v1/audio-features/{}'.format(pf_id)\n",
    "pf_features_url"
   ]
  },
  {
   "cell_type": "code",
   "execution_count": 15,
   "id": "6441a83a",
   "metadata": {},
   "outputs": [
    {
     "data": {
      "text/plain": [
       "200"
      ]
     },
     "execution_count": 15,
     "metadata": {},
     "output_type": "execute_result"
    }
   ],
   "source": [
    "pf_features_response = requests.get(url = pf_features_url, headers = session_headers)\n",
    "pf_features_response.status_code"
   ]
  },
  {
   "cell_type": "code",
   "execution_count": 16,
   "id": "21a8f856",
   "metadata": {
    "scrolled": true
   },
   "outputs": [
    {
     "data": {
      "text/plain": [
       "{'danceability': 0.348,\n",
       " 'energy': 0.633,\n",
       " 'key': 2,\n",
       " 'loudness': -11.527,\n",
       " 'mode': 1,\n",
       " 'speechiness': 0.048,\n",
       " 'acousticness': 0.376,\n",
       " 'instrumentalness': 0.473,\n",
       " 'liveness': 0.346,\n",
       " 'valence': 0.0805,\n",
       " 'tempo': 124.096,\n",
       " 'type': 'audio_features',\n",
       " 'id': '3Y8gNcoJu1uJ5L1BZuGvqB',\n",
       " 'uri': 'spotify:track:3Y8gNcoJu1uJ5L1BZuGvqB',\n",
       " 'track_href': 'https://api.spotify.com/v1/tracks/3Y8gNcoJu1uJ5L1BZuGvqB',\n",
       " 'analysis_url': 'https://api.spotify.com/v1/audio-analysis/3Y8gNcoJu1uJ5L1BZuGvqB',\n",
       " 'duration_ms': 251279,\n",
       " 'time_signature': 4}"
      ]
     },
     "execution_count": 16,
     "metadata": {},
     "output_type": "execute_result"
    }
   ],
   "source": [
    "pf_features_data = pf_features_response.json()\n",
    "pf_features_data"
   ]
  },
  {
   "cell_type": "markdown",
   "id": "997ea7d5",
   "metadata": {},
   "source": [
    "<h4>Song recommendations</h4>\n",
    "\n",
    "<p>From there we can use the API to access the song's recommendations.</p>"
   ]
  },
  {
   "cell_type": "code",
   "execution_count": 17,
   "id": "cf8a25e6",
   "metadata": {},
   "outputs": [
    {
     "data": {
      "text/plain": [
       "'https://api.spotify.com/v1/recommendations?seed_tracks=3Y8gNcoJu1uJ5L1BZuGvqB'"
      ]
     },
     "execution_count": 17,
     "metadata": {},
     "output_type": "execute_result"
    }
   ],
   "source": [
    "pf_rec_url = 'https://api.spotify.com/v1/recommendations?seed_tracks={}'.format(pf_id)\n",
    "pf_rec_url"
   ]
  },
  {
   "cell_type": "code",
   "execution_count": 18,
   "id": "e5220155",
   "metadata": {},
   "outputs": [
    {
     "data": {
      "text/plain": [
       "200"
      ]
     },
     "execution_count": 18,
     "metadata": {},
     "output_type": "execute_result"
    }
   ],
   "source": [
    "pf_rec_response = requests.get(url = pf_rec_url, headers = session_headers)\n",
    "pf_rec_response.status_code"
   ]
  },
  {
   "cell_type": "code",
   "execution_count": 19,
   "id": "9b25140a",
   "metadata": {},
   "outputs": [],
   "source": [
    "pf_rec_data = pf_rec_response.json()\n",
    "#pf_rec_data"
   ]
  },
  {
   "cell_type": "markdown",
   "id": "55475906",
   "metadata": {},
   "source": [
    "<p>The data sheet of the recommendation data is very long due to the number of songs and, most infuriatingly, individual listings for every region a song is available in. Using .keys() we can navigate through the data to access the data relevant to our experiment.</p>"
   ]
  },
  {
   "cell_type": "code",
   "execution_count": 20,
   "id": "bfb8fa80",
   "metadata": {},
   "outputs": [
    {
     "data": {
      "text/plain": [
       "dict_keys(['tracks', 'seeds'])"
      ]
     },
     "execution_count": 20,
     "metadata": {},
     "output_type": "execute_result"
    }
   ],
   "source": [
    "pf_rec_data.keys()"
   ]
  },
  {
   "cell_type": "markdown",
   "id": "70595cd2",
   "metadata": {},
   "source": [
    "<p>We're looking for the popularity of each track, so we navigate to the data properties for the tracks.</p>"
   ]
  },
  {
   "cell_type": "code",
   "execution_count": 21,
   "id": "74dba8ef",
   "metadata": {},
   "outputs": [
    {
     "data": {
      "text/plain": [
       "dict_keys(['album', 'artists', 'available_markets', 'disc_number', 'duration_ms', 'explicit', 'external_ids', 'external_urls', 'href', 'id', 'is_local', 'name', 'popularity', 'preview_url', 'track_number', 'type', 'uri'])"
      ]
     },
     "execution_count": 21,
     "metadata": {},
     "output_type": "execute_result"
    }
   ],
   "source": [
    "pf_rec_data['tracks'][0].keys()"
   ]
  },
  {
   "cell_type": "code",
   "execution_count": 22,
   "id": "23f1da29",
   "metadata": {},
   "outputs": [
    {
     "data": {
      "text/plain": [
       "39"
      ]
     },
     "execution_count": 22,
     "metadata": {},
     "output_type": "execute_result"
    }
   ],
   "source": [
    "pf_rec_data['tracks'][0]['popularity']"
   ]
  },
  {
   "cell_type": "markdown",
   "id": "92c2762a",
   "metadata": {},
   "source": [
    "<p>We can also navigate to the name of the artist that created the song, which will come in handy when assembling the final dataframe in terms of song identification.</p>"
   ]
  },
  {
   "cell_type": "code",
   "execution_count": 23,
   "id": "ea5d1643",
   "metadata": {},
   "outputs": [
    {
     "data": {
      "text/plain": [
       "dict_keys(['external_urls', 'href', 'id', 'name', 'type', 'uri'])"
      ]
     },
     "execution_count": 23,
     "metadata": {},
     "output_type": "execute_result"
    }
   ],
   "source": [
    "pf_rec_data['tracks'][0]['artists'][0].keys()"
   ]
  },
  {
   "cell_type": "code",
   "execution_count": 24,
   "id": "8737d16d",
   "metadata": {},
   "outputs": [
    {
     "data": {
      "text/plain": [
       "'The Yardbirds'"
      ]
     },
     "execution_count": 24,
     "metadata": {},
     "output_type": "execute_result"
    }
   ],
   "source": [
    "pf_rec_data['tracks'][0]['artists'][0]['name']"
   ]
  },
  {
   "cell_type": "markdown",
   "id": "58a1cf2f",
   "metadata": {},
   "source": [
    "<p>From there we can make a dataframe that displays the track properties, including that of popularity.</p>"
   ]
  },
  {
   "cell_type": "code",
   "execution_count": 25,
   "id": "1dbc3bdb",
   "metadata": {},
   "outputs": [
    {
     "data": {
      "text/html": [
       "<div>\n",
       "<style scoped>\n",
       "    .dataframe tbody tr th:only-of-type {\n",
       "        vertical-align: middle;\n",
       "    }\n",
       "\n",
       "    .dataframe tbody tr th {\n",
       "        vertical-align: top;\n",
       "    }\n",
       "\n",
       "    .dataframe thead th {\n",
       "        text-align: right;\n",
       "    }\n",
       "</style>\n",
       "<table border=\"1\" class=\"dataframe\">\n",
       "  <thead>\n",
       "    <tr style=\"text-align: right;\">\n",
       "      <th></th>\n",
       "      <th>album</th>\n",
       "      <th>artists</th>\n",
       "      <th>available_markets</th>\n",
       "      <th>disc_number</th>\n",
       "      <th>duration_ms</th>\n",
       "      <th>explicit</th>\n",
       "      <th>external_ids</th>\n",
       "      <th>external_urls</th>\n",
       "      <th>href</th>\n",
       "      <th>id</th>\n",
       "      <th>is_local</th>\n",
       "      <th>name</th>\n",
       "      <th>popularity</th>\n",
       "      <th>preview_url</th>\n",
       "      <th>track_number</th>\n",
       "      <th>type</th>\n",
       "      <th>uri</th>\n",
       "    </tr>\n",
       "  </thead>\n",
       "  <tbody>\n",
       "    <tr>\n",
       "      <th>0</th>\n",
       "      <td>{'album_type': 'ALBUM', 'artists': [{'external...</td>\n",
       "      <td>[{'external_urls': {'spotify': 'https://open.s...</td>\n",
       "      <td>[AR, AU, AT, BE, BO, BR, BG, CA, CL, CO, CR, C...</td>\n",
       "      <td>1</td>\n",
       "      <td>166213</td>\n",
       "      <td>False</td>\n",
       "      <td>{'isrc': 'GBAWA0175420'}</td>\n",
       "      <td>{'spotify': 'https://open.spotify.com/track/48...</td>\n",
       "      <td>https://api.spotify.com/v1/tracks/48fcwp3ZkLYl...</td>\n",
       "      <td>48fcwp3ZkLYlhk8xUL7Rib</td>\n",
       "      <td>False</td>\n",
       "      <td>Stroll On (From \"Blow Up\") - 2015 Remaster</td>\n",
       "      <td>39</td>\n",
       "      <td>https://p.scdn.co/mp3-preview/25db4279c40b4528...</td>\n",
       "      <td>9</td>\n",
       "      <td>track</td>\n",
       "      <td>spotify:track:48fcwp3ZkLYlhk8xUL7Rib</td>\n",
       "    </tr>\n",
       "    <tr>\n",
       "      <th>1</th>\n",
       "      <td>{'album_type': 'ALBUM', 'artists': [{'external...</td>\n",
       "      <td>[{'external_urls': {'spotify': 'https://open.s...</td>\n",
       "      <td>[AR, AU, AT, BE, BO, BR, BG, CA, CL, CO, CR, C...</td>\n",
       "      <td>1</td>\n",
       "      <td>242640</td>\n",
       "      <td>False</td>\n",
       "      <td>{'isrc': 'USSM17100736'}</td>\n",
       "      <td>{'spotify': 'https://open.spotify.com/track/0M...</td>\n",
       "      <td>https://api.spotify.com/v1/tracks/0M7oqERflkrJ...</td>\n",
       "      <td>0M7oqERflkrJVHD3IAZqxo</td>\n",
       "      <td>False</td>\n",
       "      <td>Cities On Flame with Rock and Roll</td>\n",
       "      <td>56</td>\n",
       "      <td>https://p.scdn.co/mp3-preview/0809252e43b3a86d...</td>\n",
       "      <td>8</td>\n",
       "      <td>track</td>\n",
       "      <td>spotify:track:0M7oqERflkrJVHD3IAZqxo</td>\n",
       "    </tr>\n",
       "    <tr>\n",
       "      <th>2</th>\n",
       "      <td>{'album_type': 'ALBUM', 'artists': [{'external...</td>\n",
       "      <td>[{'external_urls': {'spotify': 'https://open.s...</td>\n",
       "      <td>[AR, AU, AT, BE, BO, BR, BG, CA, CL, CO, CR, C...</td>\n",
       "      <td>1</td>\n",
       "      <td>166453</td>\n",
       "      <td>False</td>\n",
       "      <td>{'isrc': 'GBA076700030'}</td>\n",
       "      <td>{'spotify': 'https://open.spotify.com/track/0G...</td>\n",
       "      <td>https://api.spotify.com/v1/tracks/0GxV3poTM7Z7...</td>\n",
       "      <td>0GxV3poTM7Z7fKSUqy5qFw</td>\n",
       "      <td>False</td>\n",
       "      <td>Tales Of Brave Ulysses</td>\n",
       "      <td>57</td>\n",
       "      <td>None</td>\n",
       "      <td>6</td>\n",
       "      <td>track</td>\n",
       "      <td>spotify:track:0GxV3poTM7Z7fKSUqy5qFw</td>\n",
       "    </tr>\n",
       "    <tr>\n",
       "      <th>3</th>\n",
       "      <td>{'album_type': 'ALBUM', 'artists': [{'external...</td>\n",
       "      <td>[{'external_urls': {'spotify': 'https://open.s...</td>\n",
       "      <td>[AR, AU, AT, BE, BO, BR, BG, CA, CL, CO, CR, C...</td>\n",
       "      <td>1</td>\n",
       "      <td>172706</td>\n",
       "      <td>False</td>\n",
       "      <td>{'isrc': 'GB5KW1801357'}</td>\n",
       "      <td>{'spotify': 'https://open.spotify.com/track/43...</td>\n",
       "      <td>https://api.spotify.com/v1/tracks/43lZ8nY0TNIy...</td>\n",
       "      <td>43lZ8nY0TNIy2CX3BYCatV</td>\n",
       "      <td>False</td>\n",
       "      <td>Big Sky - 2018 Stereo Remaster</td>\n",
       "      <td>35</td>\n",
       "      <td>https://p.scdn.co/mp3-preview/37d9d0ca9aa7b3e4...</td>\n",
       "      <td>6</td>\n",
       "      <td>track</td>\n",
       "      <td>spotify:track:43lZ8nY0TNIy2CX3BYCatV</td>\n",
       "    </tr>\n",
       "    <tr>\n",
       "      <th>4</th>\n",
       "      <td>{'album_type': 'ALBUM', 'artists': [{'external...</td>\n",
       "      <td>[{'external_urls': {'spotify': 'https://open.s...</td>\n",
       "      <td>[AD, AL, AM, AT, AZ, BA, BE, BG, BY, CH, CW, C...</td>\n",
       "      <td>1</td>\n",
       "      <td>273693</td>\n",
       "      <td>False</td>\n",
       "      <td>{'isrc': 'GBN9Y1100072'}</td>\n",
       "      <td>{'spotify': 'https://open.spotify.com/track/4u...</td>\n",
       "      <td>https://api.spotify.com/v1/tracks/4uxrLzUlWG71...</td>\n",
       "      <td>4uxrLzUlWG71UR4jN1G4cL</td>\n",
       "      <td>False</td>\n",
       "      <td>Childhood's End - 2011 Remastered Version</td>\n",
       "      <td>42</td>\n",
       "      <td>https://p.scdn.co/mp3-preview/8a682f93eacd9102...</td>\n",
       "      <td>7</td>\n",
       "      <td>track</td>\n",
       "      <td>spotify:track:4uxrLzUlWG71UR4jN1G4cL</td>\n",
       "    </tr>\n",
       "  </tbody>\n",
       "</table>\n",
       "</div>"
      ],
      "text/plain": [
       "                                               album  \\\n",
       "0  {'album_type': 'ALBUM', 'artists': [{'external...   \n",
       "1  {'album_type': 'ALBUM', 'artists': [{'external...   \n",
       "2  {'album_type': 'ALBUM', 'artists': [{'external...   \n",
       "3  {'album_type': 'ALBUM', 'artists': [{'external...   \n",
       "4  {'album_type': 'ALBUM', 'artists': [{'external...   \n",
       "\n",
       "                                             artists  \\\n",
       "0  [{'external_urls': {'spotify': 'https://open.s...   \n",
       "1  [{'external_urls': {'spotify': 'https://open.s...   \n",
       "2  [{'external_urls': {'spotify': 'https://open.s...   \n",
       "3  [{'external_urls': {'spotify': 'https://open.s...   \n",
       "4  [{'external_urls': {'spotify': 'https://open.s...   \n",
       "\n",
       "                                   available_markets  disc_number  \\\n",
       "0  [AR, AU, AT, BE, BO, BR, BG, CA, CL, CO, CR, C...            1   \n",
       "1  [AR, AU, AT, BE, BO, BR, BG, CA, CL, CO, CR, C...            1   \n",
       "2  [AR, AU, AT, BE, BO, BR, BG, CA, CL, CO, CR, C...            1   \n",
       "3  [AR, AU, AT, BE, BO, BR, BG, CA, CL, CO, CR, C...            1   \n",
       "4  [AD, AL, AM, AT, AZ, BA, BE, BG, BY, CH, CW, C...            1   \n",
       "\n",
       "   duration_ms  explicit              external_ids  \\\n",
       "0       166213     False  {'isrc': 'GBAWA0175420'}   \n",
       "1       242640     False  {'isrc': 'USSM17100736'}   \n",
       "2       166453     False  {'isrc': 'GBA076700030'}   \n",
       "3       172706     False  {'isrc': 'GB5KW1801357'}   \n",
       "4       273693     False  {'isrc': 'GBN9Y1100072'}   \n",
       "\n",
       "                                       external_urls  \\\n",
       "0  {'spotify': 'https://open.spotify.com/track/48...   \n",
       "1  {'spotify': 'https://open.spotify.com/track/0M...   \n",
       "2  {'spotify': 'https://open.spotify.com/track/0G...   \n",
       "3  {'spotify': 'https://open.spotify.com/track/43...   \n",
       "4  {'spotify': 'https://open.spotify.com/track/4u...   \n",
       "\n",
       "                                                href                      id  \\\n",
       "0  https://api.spotify.com/v1/tracks/48fcwp3ZkLYl...  48fcwp3ZkLYlhk8xUL7Rib   \n",
       "1  https://api.spotify.com/v1/tracks/0M7oqERflkrJ...  0M7oqERflkrJVHD3IAZqxo   \n",
       "2  https://api.spotify.com/v1/tracks/0GxV3poTM7Z7...  0GxV3poTM7Z7fKSUqy5qFw   \n",
       "3  https://api.spotify.com/v1/tracks/43lZ8nY0TNIy...  43lZ8nY0TNIy2CX3BYCatV   \n",
       "4  https://api.spotify.com/v1/tracks/4uxrLzUlWG71...  4uxrLzUlWG71UR4jN1G4cL   \n",
       "\n",
       "   is_local                                        name  popularity  \\\n",
       "0     False  Stroll On (From \"Blow Up\") - 2015 Remaster          39   \n",
       "1     False          Cities On Flame with Rock and Roll          56   \n",
       "2     False                      Tales Of Brave Ulysses          57   \n",
       "3     False              Big Sky - 2018 Stereo Remaster          35   \n",
       "4     False   Childhood's End - 2011 Remastered Version          42   \n",
       "\n",
       "                                         preview_url  track_number   type  \\\n",
       "0  https://p.scdn.co/mp3-preview/25db4279c40b4528...             9  track   \n",
       "1  https://p.scdn.co/mp3-preview/0809252e43b3a86d...             8  track   \n",
       "2                                               None             6  track   \n",
       "3  https://p.scdn.co/mp3-preview/37d9d0ca9aa7b3e4...             6  track   \n",
       "4  https://p.scdn.co/mp3-preview/8a682f93eacd9102...             7  track   \n",
       "\n",
       "                                    uri  \n",
       "0  spotify:track:48fcwp3ZkLYlhk8xUL7Rib  \n",
       "1  spotify:track:0M7oqERflkrJVHD3IAZqxo  \n",
       "2  spotify:track:0GxV3poTM7Z7fKSUqy5qFw  \n",
       "3  spotify:track:43lZ8nY0TNIy2CX3BYCatV  \n",
       "4  spotify:track:4uxrLzUlWG71UR4jN1G4cL  "
      ]
     },
     "execution_count": 25,
     "metadata": {},
     "output_type": "execute_result"
    }
   ],
   "source": [
    "pf_rec_df = pd.DataFrame(pf_rec_data['tracks'])\n",
    "pf_rec_df.head()"
   ]
  },
  {
   "cell_type": "markdown",
   "id": "a1d40abb",
   "metadata": {},
   "source": [
    "<p>This dataframe will be merged with the dataframe for audio properties later.</p>\n",
    "\n",
    "<p>In order to call the audio properties for the recommendations, we can convert the 'id' column into a list of the IDs of the recommended songs and then insert it into the Spotify API.</p>"
   ]
  },
  {
   "cell_type": "code",
   "execution_count": 26,
   "id": "268c0b1d",
   "metadata": {},
   "outputs": [],
   "source": [
    "rec_list = ','.join(list(pf_rec_df['id']))"
   ]
  },
  {
   "cell_type": "code",
   "execution_count": 27,
   "id": "83f44add",
   "metadata": {},
   "outputs": [
    {
     "data": {
      "text/plain": [
       "'https://api.spotify.com/v1/audio-features?ids=48fcwp3ZkLYlhk8xUL7Rib,0M7oqERflkrJVHD3IAZqxo,0GxV3poTM7Z7fKSUqy5qFw,43lZ8nY0TNIy2CX3BYCatV,4uxrLzUlWG71UR4jN1G4cL,7ua8ZMH06UdC3jcYPsEFPc,05f8Hg3RSfiPSCBQOtxl3i,3EmFqjkCftCBM7uKCql2Yn,6vSyKfgLccRMuTlwWI6Bi1,2IVyQNYOJSRgkSgSH8y5cb,6UrgPc2f78pgDrdodMJA42,6ypqzijMjsopQkfMLrImQp,3FckgkjljxOUBt9LYUZo5Z,59ENhfT8TIFjB30TUVG4PA,0myRKEG1A20Ep57FDWzRQA,2NTH6pt0kRQc7wuDuFPzKO,042v1NacbKJzCyi6nBme7T,33yz4pZitBJaa7eXSW5Dxs,5lmGgOaixbwKHtpTzjJoqx,1gmO2YyFdY4Y3NEw3HlS9a'"
      ]
     },
     "execution_count": 27,
     "metadata": {},
     "output_type": "execute_result"
    }
   ],
   "source": [
    "rec_features_url = 'https://api.spotify.com/v1/audio-features?ids={}'.format(rec_list)\n",
    "rec_features_url"
   ]
  },
  {
   "cell_type": "code",
   "execution_count": 28,
   "id": "3bd70188",
   "metadata": {},
   "outputs": [
    {
     "data": {
      "text/plain": [
       "200"
      ]
     },
     "execution_count": 28,
     "metadata": {},
     "output_type": "execute_result"
    }
   ],
   "source": [
    "rec_feat_response = requests.get(url = rec_features_url, headers = session_headers)\n",
    "rec_feat_response.status_code"
   ]
  },
  {
   "cell_type": "markdown",
   "id": "6bc3b56c",
   "metadata": {},
   "source": [
    "<p>We can view the data of the audio features by converting the data to .json and using .keys() to navigate the data.</p>"
   ]
  },
  {
   "cell_type": "code",
   "execution_count": 29,
   "id": "488ae671",
   "metadata": {},
   "outputs": [
    {
     "data": {
      "text/plain": [
       "dict_keys(['audio_features'])"
      ]
     },
     "execution_count": 29,
     "metadata": {},
     "output_type": "execute_result"
    }
   ],
   "source": [
    "rec_feat_data = rec_feat_response.json()\n",
    "rec_feat_data.keys()"
   ]
  },
  {
   "cell_type": "code",
   "execution_count": 30,
   "id": "923c9441",
   "metadata": {},
   "outputs": [
    {
     "data": {
      "text/plain": [
       "{'danceability': 0.395,\n",
       " 'energy': 0.897,\n",
       " 'key': 11,\n",
       " 'loudness': -8.778,\n",
       " 'mode': 0,\n",
       " 'speechiness': 0.11,\n",
       " 'acousticness': 0.056,\n",
       " 'instrumentalness': 0.000657,\n",
       " 'liveness': 0.109,\n",
       " 'valence': 0.307,\n",
       " 'tempo': 91.226,\n",
       " 'type': 'audio_features',\n",
       " 'id': '48fcwp3ZkLYlhk8xUL7Rib',\n",
       " 'uri': 'spotify:track:48fcwp3ZkLYlhk8xUL7Rib',\n",
       " 'track_href': 'https://api.spotify.com/v1/tracks/48fcwp3ZkLYlhk8xUL7Rib',\n",
       " 'analysis_url': 'https://api.spotify.com/v1/audio-analysis/48fcwp3ZkLYlhk8xUL7Rib',\n",
       " 'duration_ms': 166213,\n",
       " 'time_signature': 4}"
      ]
     },
     "execution_count": 30,
     "metadata": {},
     "output_type": "execute_result"
    }
   ],
   "source": [
    "rec_feat_data['audio_features'][0]"
   ]
  },
  {
   "cell_type": "markdown",
   "id": "4b18da4b",
   "metadata": {},
   "source": [
    "<p>Then we can create a dataframe of the audio features of each recommended song.</p>"
   ]
  },
  {
   "cell_type": "code",
   "execution_count": 31,
   "id": "ec66903b",
   "metadata": {},
   "outputs": [
    {
     "data": {
      "text/html": [
       "<div>\n",
       "<style scoped>\n",
       "    .dataframe tbody tr th:only-of-type {\n",
       "        vertical-align: middle;\n",
       "    }\n",
       "\n",
       "    .dataframe tbody tr th {\n",
       "        vertical-align: top;\n",
       "    }\n",
       "\n",
       "    .dataframe thead th {\n",
       "        text-align: right;\n",
       "    }\n",
       "</style>\n",
       "<table border=\"1\" class=\"dataframe\">\n",
       "  <thead>\n",
       "    <tr style=\"text-align: right;\">\n",
       "      <th></th>\n",
       "      <th>danceability</th>\n",
       "      <th>energy</th>\n",
       "      <th>key</th>\n",
       "      <th>loudness</th>\n",
       "      <th>mode</th>\n",
       "      <th>speechiness</th>\n",
       "      <th>acousticness</th>\n",
       "      <th>instrumentalness</th>\n",
       "      <th>liveness</th>\n",
       "      <th>valence</th>\n",
       "      <th>tempo</th>\n",
       "      <th>type</th>\n",
       "      <th>id</th>\n",
       "      <th>uri</th>\n",
       "      <th>track_href</th>\n",
       "      <th>analysis_url</th>\n",
       "      <th>duration_ms</th>\n",
       "      <th>time_signature</th>\n",
       "    </tr>\n",
       "  </thead>\n",
       "  <tbody>\n",
       "    <tr>\n",
       "      <th>0</th>\n",
       "      <td>0.395</td>\n",
       "      <td>0.897</td>\n",
       "      <td>11</td>\n",
       "      <td>-8.778</td>\n",
       "      <td>0</td>\n",
       "      <td>0.1100</td>\n",
       "      <td>0.05600</td>\n",
       "      <td>0.000657</td>\n",
       "      <td>0.1090</td>\n",
       "      <td>0.307</td>\n",
       "      <td>91.226</td>\n",
       "      <td>audio_features</td>\n",
       "      <td>48fcwp3ZkLYlhk8xUL7Rib</td>\n",
       "      <td>spotify:track:48fcwp3ZkLYlhk8xUL7Rib</td>\n",
       "      <td>https://api.spotify.com/v1/tracks/48fcwp3ZkLYl...</td>\n",
       "      <td>https://api.spotify.com/v1/audio-analysis/48fc...</td>\n",
       "      <td>166213</td>\n",
       "      <td>4</td>\n",
       "    </tr>\n",
       "    <tr>\n",
       "      <th>1</th>\n",
       "      <td>0.337</td>\n",
       "      <td>0.886</td>\n",
       "      <td>4</td>\n",
       "      <td>-8.607</td>\n",
       "      <td>1</td>\n",
       "      <td>0.0980</td>\n",
       "      <td>0.07160</td>\n",
       "      <td>0.001560</td>\n",
       "      <td>0.2040</td>\n",
       "      <td>0.648</td>\n",
       "      <td>177.713</td>\n",
       "      <td>audio_features</td>\n",
       "      <td>0M7oqERflkrJVHD3IAZqxo</td>\n",
       "      <td>spotify:track:0M7oqERflkrJVHD3IAZqxo</td>\n",
       "      <td>https://api.spotify.com/v1/tracks/0M7oqERflkrJ...</td>\n",
       "      <td>https://api.spotify.com/v1/audio-analysis/0M7o...</td>\n",
       "      <td>242640</td>\n",
       "      <td>4</td>\n",
       "    </tr>\n",
       "    <tr>\n",
       "      <th>2</th>\n",
       "      <td>0.538</td>\n",
       "      <td>0.476</td>\n",
       "      <td>0</td>\n",
       "      <td>-9.215</td>\n",
       "      <td>0</td>\n",
       "      <td>0.0490</td>\n",
       "      <td>0.01780</td>\n",
       "      <td>0.000043</td>\n",
       "      <td>0.1010</td>\n",
       "      <td>0.188</td>\n",
       "      <td>105.642</td>\n",
       "      <td>audio_features</td>\n",
       "      <td>0GxV3poTM7Z7fKSUqy5qFw</td>\n",
       "      <td>spotify:track:0GxV3poTM7Z7fKSUqy5qFw</td>\n",
       "      <td>https://api.spotify.com/v1/tracks/0GxV3poTM7Z7...</td>\n",
       "      <td>https://api.spotify.com/v1/audio-analysis/0GxV...</td>\n",
       "      <td>166453</td>\n",
       "      <td>4</td>\n",
       "    </tr>\n",
       "    <tr>\n",
       "      <th>3</th>\n",
       "      <td>0.553</td>\n",
       "      <td>0.798</td>\n",
       "      <td>10</td>\n",
       "      <td>-7.405</td>\n",
       "      <td>1</td>\n",
       "      <td>0.0274</td>\n",
       "      <td>0.00659</td>\n",
       "      <td>0.000612</td>\n",
       "      <td>0.0923</td>\n",
       "      <td>0.560</td>\n",
       "      <td>98.285</td>\n",
       "      <td>audio_features</td>\n",
       "      <td>43lZ8nY0TNIy2CX3BYCatV</td>\n",
       "      <td>spotify:track:43lZ8nY0TNIy2CX3BYCatV</td>\n",
       "      <td>https://api.spotify.com/v1/tracks/43lZ8nY0TNIy...</td>\n",
       "      <td>https://api.spotify.com/v1/audio-analysis/43lZ...</td>\n",
       "      <td>172707</td>\n",
       "      <td>4</td>\n",
       "    </tr>\n",
       "    <tr>\n",
       "      <th>4</th>\n",
       "      <td>0.672</td>\n",
       "      <td>0.321</td>\n",
       "      <td>9</td>\n",
       "      <td>-16.789</td>\n",
       "      <td>1</td>\n",
       "      <td>0.0435</td>\n",
       "      <td>0.13600</td>\n",
       "      <td>0.000046</td>\n",
       "      <td>0.0934</td>\n",
       "      <td>0.202</td>\n",
       "      <td>125.041</td>\n",
       "      <td>audio_features</td>\n",
       "      <td>4uxrLzUlWG71UR4jN1G4cL</td>\n",
       "      <td>spotify:track:4uxrLzUlWG71UR4jN1G4cL</td>\n",
       "      <td>https://api.spotify.com/v1/tracks/4uxrLzUlWG71...</td>\n",
       "      <td>https://api.spotify.com/v1/audio-analysis/4uxr...</td>\n",
       "      <td>273693</td>\n",
       "      <td>4</td>\n",
       "    </tr>\n",
       "  </tbody>\n",
       "</table>\n",
       "</div>"
      ],
      "text/plain": [
       "   danceability  energy  key  loudness  mode  speechiness  acousticness  \\\n",
       "0         0.395   0.897   11    -8.778     0       0.1100       0.05600   \n",
       "1         0.337   0.886    4    -8.607     1       0.0980       0.07160   \n",
       "2         0.538   0.476    0    -9.215     0       0.0490       0.01780   \n",
       "3         0.553   0.798   10    -7.405     1       0.0274       0.00659   \n",
       "4         0.672   0.321    9   -16.789     1       0.0435       0.13600   \n",
       "\n",
       "   instrumentalness  liveness  valence    tempo            type  \\\n",
       "0          0.000657    0.1090    0.307   91.226  audio_features   \n",
       "1          0.001560    0.2040    0.648  177.713  audio_features   \n",
       "2          0.000043    0.1010    0.188  105.642  audio_features   \n",
       "3          0.000612    0.0923    0.560   98.285  audio_features   \n",
       "4          0.000046    0.0934    0.202  125.041  audio_features   \n",
       "\n",
       "                       id                                   uri  \\\n",
       "0  48fcwp3ZkLYlhk8xUL7Rib  spotify:track:48fcwp3ZkLYlhk8xUL7Rib   \n",
       "1  0M7oqERflkrJVHD3IAZqxo  spotify:track:0M7oqERflkrJVHD3IAZqxo   \n",
       "2  0GxV3poTM7Z7fKSUqy5qFw  spotify:track:0GxV3poTM7Z7fKSUqy5qFw   \n",
       "3  43lZ8nY0TNIy2CX3BYCatV  spotify:track:43lZ8nY0TNIy2CX3BYCatV   \n",
       "4  4uxrLzUlWG71UR4jN1G4cL  spotify:track:4uxrLzUlWG71UR4jN1G4cL   \n",
       "\n",
       "                                          track_href  \\\n",
       "0  https://api.spotify.com/v1/tracks/48fcwp3ZkLYl...   \n",
       "1  https://api.spotify.com/v1/tracks/0M7oqERflkrJ...   \n",
       "2  https://api.spotify.com/v1/tracks/0GxV3poTM7Z7...   \n",
       "3  https://api.spotify.com/v1/tracks/43lZ8nY0TNIy...   \n",
       "4  https://api.spotify.com/v1/tracks/4uxrLzUlWG71...   \n",
       "\n",
       "                                        analysis_url  duration_ms  \\\n",
       "0  https://api.spotify.com/v1/audio-analysis/48fc...       166213   \n",
       "1  https://api.spotify.com/v1/audio-analysis/0M7o...       242640   \n",
       "2  https://api.spotify.com/v1/audio-analysis/0GxV...       166453   \n",
       "3  https://api.spotify.com/v1/audio-analysis/43lZ...       172707   \n",
       "4  https://api.spotify.com/v1/audio-analysis/4uxr...       273693   \n",
       "\n",
       "   time_signature  \n",
       "0               4  \n",
       "1               4  \n",
       "2               4  \n",
       "3               4  \n",
       "4               4  "
      ]
     },
     "execution_count": 31,
     "metadata": {},
     "output_type": "execute_result"
    }
   ],
   "source": [
    "rec_feat_df = pd.DataFrame(rec_feat_data['audio_features'])\n",
    "rec_feat_df.head()"
   ]
  },
  {
   "cell_type": "markdown",
   "id": "21ab3642",
   "metadata": {},
   "source": [
    "<p>Then, we can merge the dataframe of the <b>recommendation properties</b> (including <b>popularity</b>) with the dataframe of <b>the audio features of the recommendations</b>.</p>"
   ]
  },
  {
   "cell_type": "code",
   "execution_count": 32,
   "id": "bef95bbc",
   "metadata": {},
   "outputs": [
    {
     "data": {
      "text/html": [
       "<div>\n",
       "<style scoped>\n",
       "    .dataframe tbody tr th:only-of-type {\n",
       "        vertical-align: middle;\n",
       "    }\n",
       "\n",
       "    .dataframe tbody tr th {\n",
       "        vertical-align: top;\n",
       "    }\n",
       "\n",
       "    .dataframe thead th {\n",
       "        text-align: right;\n",
       "    }\n",
       "</style>\n",
       "<table border=\"1\" class=\"dataframe\">\n",
       "  <thead>\n",
       "    <tr style=\"text-align: right;\">\n",
       "      <th></th>\n",
       "      <th>album</th>\n",
       "      <th>artists</th>\n",
       "      <th>available_markets</th>\n",
       "      <th>disc_number</th>\n",
       "      <th>duration_ms_x</th>\n",
       "      <th>explicit</th>\n",
       "      <th>external_ids</th>\n",
       "      <th>external_urls</th>\n",
       "      <th>href</th>\n",
       "      <th>id</th>\n",
       "      <th>...</th>\n",
       "      <th>instrumentalness</th>\n",
       "      <th>liveness</th>\n",
       "      <th>valence</th>\n",
       "      <th>tempo</th>\n",
       "      <th>type_y</th>\n",
       "      <th>uri_y</th>\n",
       "      <th>track_href</th>\n",
       "      <th>analysis_url</th>\n",
       "      <th>duration_ms_y</th>\n",
       "      <th>time_signature</th>\n",
       "    </tr>\n",
       "  </thead>\n",
       "  <tbody>\n",
       "    <tr>\n",
       "      <th>0</th>\n",
       "      <td>{'album_type': 'ALBUM', 'artists': [{'external...</td>\n",
       "      <td>[{'external_urls': {'spotify': 'https://open.s...</td>\n",
       "      <td>[AR, AU, AT, BE, BO, BR, BG, CA, CL, CO, CR, C...</td>\n",
       "      <td>1</td>\n",
       "      <td>166213</td>\n",
       "      <td>False</td>\n",
       "      <td>{'isrc': 'GBAWA0175420'}</td>\n",
       "      <td>{'spotify': 'https://open.spotify.com/track/48...</td>\n",
       "      <td>https://api.spotify.com/v1/tracks/48fcwp3ZkLYl...</td>\n",
       "      <td>48fcwp3ZkLYlhk8xUL7Rib</td>\n",
       "      <td>...</td>\n",
       "      <td>0.000657</td>\n",
       "      <td>0.1090</td>\n",
       "      <td>0.307</td>\n",
       "      <td>91.226</td>\n",
       "      <td>audio_features</td>\n",
       "      <td>spotify:track:48fcwp3ZkLYlhk8xUL7Rib</td>\n",
       "      <td>https://api.spotify.com/v1/tracks/48fcwp3ZkLYl...</td>\n",
       "      <td>https://api.spotify.com/v1/audio-analysis/48fc...</td>\n",
       "      <td>166213</td>\n",
       "      <td>4</td>\n",
       "    </tr>\n",
       "    <tr>\n",
       "      <th>1</th>\n",
       "      <td>{'album_type': 'ALBUM', 'artists': [{'external...</td>\n",
       "      <td>[{'external_urls': {'spotify': 'https://open.s...</td>\n",
       "      <td>[AR, AU, AT, BE, BO, BR, BG, CA, CL, CO, CR, C...</td>\n",
       "      <td>1</td>\n",
       "      <td>242640</td>\n",
       "      <td>False</td>\n",
       "      <td>{'isrc': 'USSM17100736'}</td>\n",
       "      <td>{'spotify': 'https://open.spotify.com/track/0M...</td>\n",
       "      <td>https://api.spotify.com/v1/tracks/0M7oqERflkrJ...</td>\n",
       "      <td>0M7oqERflkrJVHD3IAZqxo</td>\n",
       "      <td>...</td>\n",
       "      <td>0.001560</td>\n",
       "      <td>0.2040</td>\n",
       "      <td>0.648</td>\n",
       "      <td>177.713</td>\n",
       "      <td>audio_features</td>\n",
       "      <td>spotify:track:0M7oqERflkrJVHD3IAZqxo</td>\n",
       "      <td>https://api.spotify.com/v1/tracks/0M7oqERflkrJ...</td>\n",
       "      <td>https://api.spotify.com/v1/audio-analysis/0M7o...</td>\n",
       "      <td>242640</td>\n",
       "      <td>4</td>\n",
       "    </tr>\n",
       "    <tr>\n",
       "      <th>2</th>\n",
       "      <td>{'album_type': 'ALBUM', 'artists': [{'external...</td>\n",
       "      <td>[{'external_urls': {'spotify': 'https://open.s...</td>\n",
       "      <td>[AR, AU, AT, BE, BO, BR, BG, CA, CL, CO, CR, C...</td>\n",
       "      <td>1</td>\n",
       "      <td>166453</td>\n",
       "      <td>False</td>\n",
       "      <td>{'isrc': 'GBA076700030'}</td>\n",
       "      <td>{'spotify': 'https://open.spotify.com/track/0G...</td>\n",
       "      <td>https://api.spotify.com/v1/tracks/0GxV3poTM7Z7...</td>\n",
       "      <td>0GxV3poTM7Z7fKSUqy5qFw</td>\n",
       "      <td>...</td>\n",
       "      <td>0.000043</td>\n",
       "      <td>0.1010</td>\n",
       "      <td>0.188</td>\n",
       "      <td>105.642</td>\n",
       "      <td>audio_features</td>\n",
       "      <td>spotify:track:0GxV3poTM7Z7fKSUqy5qFw</td>\n",
       "      <td>https://api.spotify.com/v1/tracks/0GxV3poTM7Z7...</td>\n",
       "      <td>https://api.spotify.com/v1/audio-analysis/0GxV...</td>\n",
       "      <td>166453</td>\n",
       "      <td>4</td>\n",
       "    </tr>\n",
       "    <tr>\n",
       "      <th>3</th>\n",
       "      <td>{'album_type': 'ALBUM', 'artists': [{'external...</td>\n",
       "      <td>[{'external_urls': {'spotify': 'https://open.s...</td>\n",
       "      <td>[AR, AU, AT, BE, BO, BR, BG, CA, CL, CO, CR, C...</td>\n",
       "      <td>1</td>\n",
       "      <td>172706</td>\n",
       "      <td>False</td>\n",
       "      <td>{'isrc': 'GB5KW1801357'}</td>\n",
       "      <td>{'spotify': 'https://open.spotify.com/track/43...</td>\n",
       "      <td>https://api.spotify.com/v1/tracks/43lZ8nY0TNIy...</td>\n",
       "      <td>43lZ8nY0TNIy2CX3BYCatV</td>\n",
       "      <td>...</td>\n",
       "      <td>0.000612</td>\n",
       "      <td>0.0923</td>\n",
       "      <td>0.560</td>\n",
       "      <td>98.285</td>\n",
       "      <td>audio_features</td>\n",
       "      <td>spotify:track:43lZ8nY0TNIy2CX3BYCatV</td>\n",
       "      <td>https://api.spotify.com/v1/tracks/43lZ8nY0TNIy...</td>\n",
       "      <td>https://api.spotify.com/v1/audio-analysis/43lZ...</td>\n",
       "      <td>172707</td>\n",
       "      <td>4</td>\n",
       "    </tr>\n",
       "    <tr>\n",
       "      <th>4</th>\n",
       "      <td>{'album_type': 'ALBUM', 'artists': [{'external...</td>\n",
       "      <td>[{'external_urls': {'spotify': 'https://open.s...</td>\n",
       "      <td>[AD, AL, AM, AT, AZ, BA, BE, BG, BY, CH, CW, C...</td>\n",
       "      <td>1</td>\n",
       "      <td>273693</td>\n",
       "      <td>False</td>\n",
       "      <td>{'isrc': 'GBN9Y1100072'}</td>\n",
       "      <td>{'spotify': 'https://open.spotify.com/track/4u...</td>\n",
       "      <td>https://api.spotify.com/v1/tracks/4uxrLzUlWG71...</td>\n",
       "      <td>4uxrLzUlWG71UR4jN1G4cL</td>\n",
       "      <td>...</td>\n",
       "      <td>0.000046</td>\n",
       "      <td>0.0934</td>\n",
       "      <td>0.202</td>\n",
       "      <td>125.041</td>\n",
       "      <td>audio_features</td>\n",
       "      <td>spotify:track:4uxrLzUlWG71UR4jN1G4cL</td>\n",
       "      <td>https://api.spotify.com/v1/tracks/4uxrLzUlWG71...</td>\n",
       "      <td>https://api.spotify.com/v1/audio-analysis/4uxr...</td>\n",
       "      <td>273693</td>\n",
       "      <td>4</td>\n",
       "    </tr>\n",
       "  </tbody>\n",
       "</table>\n",
       "<p>5 rows × 34 columns</p>\n",
       "</div>"
      ],
      "text/plain": [
       "                                               album  \\\n",
       "0  {'album_type': 'ALBUM', 'artists': [{'external...   \n",
       "1  {'album_type': 'ALBUM', 'artists': [{'external...   \n",
       "2  {'album_type': 'ALBUM', 'artists': [{'external...   \n",
       "3  {'album_type': 'ALBUM', 'artists': [{'external...   \n",
       "4  {'album_type': 'ALBUM', 'artists': [{'external...   \n",
       "\n",
       "                                             artists  \\\n",
       "0  [{'external_urls': {'spotify': 'https://open.s...   \n",
       "1  [{'external_urls': {'spotify': 'https://open.s...   \n",
       "2  [{'external_urls': {'spotify': 'https://open.s...   \n",
       "3  [{'external_urls': {'spotify': 'https://open.s...   \n",
       "4  [{'external_urls': {'spotify': 'https://open.s...   \n",
       "\n",
       "                                   available_markets  disc_number  \\\n",
       "0  [AR, AU, AT, BE, BO, BR, BG, CA, CL, CO, CR, C...            1   \n",
       "1  [AR, AU, AT, BE, BO, BR, BG, CA, CL, CO, CR, C...            1   \n",
       "2  [AR, AU, AT, BE, BO, BR, BG, CA, CL, CO, CR, C...            1   \n",
       "3  [AR, AU, AT, BE, BO, BR, BG, CA, CL, CO, CR, C...            1   \n",
       "4  [AD, AL, AM, AT, AZ, BA, BE, BG, BY, CH, CW, C...            1   \n",
       "\n",
       "   duration_ms_x  explicit              external_ids  \\\n",
       "0         166213     False  {'isrc': 'GBAWA0175420'}   \n",
       "1         242640     False  {'isrc': 'USSM17100736'}   \n",
       "2         166453     False  {'isrc': 'GBA076700030'}   \n",
       "3         172706     False  {'isrc': 'GB5KW1801357'}   \n",
       "4         273693     False  {'isrc': 'GBN9Y1100072'}   \n",
       "\n",
       "                                       external_urls  \\\n",
       "0  {'spotify': 'https://open.spotify.com/track/48...   \n",
       "1  {'spotify': 'https://open.spotify.com/track/0M...   \n",
       "2  {'spotify': 'https://open.spotify.com/track/0G...   \n",
       "3  {'spotify': 'https://open.spotify.com/track/43...   \n",
       "4  {'spotify': 'https://open.spotify.com/track/4u...   \n",
       "\n",
       "                                                href                      id  \\\n",
       "0  https://api.spotify.com/v1/tracks/48fcwp3ZkLYl...  48fcwp3ZkLYlhk8xUL7Rib   \n",
       "1  https://api.spotify.com/v1/tracks/0M7oqERflkrJ...  0M7oqERflkrJVHD3IAZqxo   \n",
       "2  https://api.spotify.com/v1/tracks/0GxV3poTM7Z7...  0GxV3poTM7Z7fKSUqy5qFw   \n",
       "3  https://api.spotify.com/v1/tracks/43lZ8nY0TNIy...  43lZ8nY0TNIy2CX3BYCatV   \n",
       "4  https://api.spotify.com/v1/tracks/4uxrLzUlWG71...  4uxrLzUlWG71UR4jN1G4cL   \n",
       "\n",
       "   ...  instrumentalness liveness  valence    tempo          type_y  \\\n",
       "0  ...          0.000657   0.1090    0.307   91.226  audio_features   \n",
       "1  ...          0.001560   0.2040    0.648  177.713  audio_features   \n",
       "2  ...          0.000043   0.1010    0.188  105.642  audio_features   \n",
       "3  ...          0.000612   0.0923    0.560   98.285  audio_features   \n",
       "4  ...          0.000046   0.0934    0.202  125.041  audio_features   \n",
       "\n",
       "                                  uri_y  \\\n",
       "0  spotify:track:48fcwp3ZkLYlhk8xUL7Rib   \n",
       "1  spotify:track:0M7oqERflkrJVHD3IAZqxo   \n",
       "2  spotify:track:0GxV3poTM7Z7fKSUqy5qFw   \n",
       "3  spotify:track:43lZ8nY0TNIy2CX3BYCatV   \n",
       "4  spotify:track:4uxrLzUlWG71UR4jN1G4cL   \n",
       "\n",
       "                                          track_href  \\\n",
       "0  https://api.spotify.com/v1/tracks/48fcwp3ZkLYl...   \n",
       "1  https://api.spotify.com/v1/tracks/0M7oqERflkrJ...   \n",
       "2  https://api.spotify.com/v1/tracks/0GxV3poTM7Z7...   \n",
       "3  https://api.spotify.com/v1/tracks/43lZ8nY0TNIy...   \n",
       "4  https://api.spotify.com/v1/tracks/4uxrLzUlWG71...   \n",
       "\n",
       "                                        analysis_url  duration_ms_y  \\\n",
       "0  https://api.spotify.com/v1/audio-analysis/48fc...         166213   \n",
       "1  https://api.spotify.com/v1/audio-analysis/0M7o...         242640   \n",
       "2  https://api.spotify.com/v1/audio-analysis/0GxV...         166453   \n",
       "3  https://api.spotify.com/v1/audio-analysis/43lZ...         172707   \n",
       "4  https://api.spotify.com/v1/audio-analysis/4uxr...         273693   \n",
       "\n",
       "   time_signature  \n",
       "0               4  \n",
       "1               4  \n",
       "2               4  \n",
       "3               4  \n",
       "4               4  \n",
       "\n",
       "[5 rows x 34 columns]"
      ]
     },
     "execution_count": 32,
     "metadata": {},
     "output_type": "execute_result"
    }
   ],
   "source": [
    "id_frame = pd.merge(pf_rec_df, rec_feat_df, how = 'inner', on = 'id')\n",
    "id_frame.head()"
   ]
  },
  {
   "cell_type": "markdown",
   "id": "6aae7ccd",
   "metadata": {},
   "source": [
    "<p>We can sort this merged frame to better convey the data points we are interested in.</p>\n",
    "\n",
    "<p>First, we can group the frame by the titles of songs to make the dataframe easy to digest. We can call the dataframe's columns and do away with those that are irrelevant to our project to maximize efficiency and ease of data digestion.</p>"
   ]
  },
  {
   "cell_type": "code",
   "execution_count": 33,
   "id": "6964512c",
   "metadata": {},
   "outputs": [
    {
     "data": {
      "text/plain": [
       "Index(['album', 'artists', 'available_markets', 'disc_number', 'duration_ms_x',\n",
       "       'explicit', 'external_ids', 'external_urls', 'href', 'id', 'is_local',\n",
       "       'name', 'popularity', 'preview_url', 'track_number', 'type_x', 'uri_x',\n",
       "       'danceability', 'energy', 'key', 'loudness', 'mode', 'speechiness',\n",
       "       'acousticness', 'instrumentalness', 'liveness', 'valence', 'tempo',\n",
       "       'type_y', 'uri_y', 'track_href', 'analysis_url', 'duration_ms_y',\n",
       "       'time_signature'],\n",
       "      dtype='object')"
      ]
     },
     "execution_count": 33,
     "metadata": {},
     "output_type": "execute_result"
    }
   ],
   "source": [
    "id_frame.columns"
   ]
  },
  {
   "cell_type": "code",
   "execution_count": 34,
   "id": "c8190f1f",
   "metadata": {
    "scrolled": true
   },
   "outputs": [
    {
     "data": {
      "text/html": [
       "<div>\n",
       "<style scoped>\n",
       "    .dataframe tbody tr th:only-of-type {\n",
       "        vertical-align: middle;\n",
       "    }\n",
       "\n",
       "    .dataframe tbody tr th {\n",
       "        vertical-align: top;\n",
       "    }\n",
       "\n",
       "    .dataframe thead th {\n",
       "        text-align: right;\n",
       "    }\n",
       "</style>\n",
       "<table border=\"1\" class=\"dataframe\">\n",
       "  <thead>\n",
       "    <tr style=\"text-align: right;\">\n",
       "      <th></th>\n",
       "      <th>artists</th>\n",
       "      <th>name</th>\n",
       "      <th>popularity</th>\n",
       "      <th>danceability</th>\n",
       "      <th>energy</th>\n",
       "      <th>loudness</th>\n",
       "      <th>speechiness</th>\n",
       "      <th>acousticness</th>\n",
       "      <th>instrumentalness</th>\n",
       "      <th>liveness</th>\n",
       "      <th>valence</th>\n",
       "      <th>tempo</th>\n",
       "    </tr>\n",
       "  </thead>\n",
       "  <tbody>\n",
       "    <tr>\n",
       "      <th>0</th>\n",
       "      <td>[{'external_urls': {'spotify': 'https://open.s...</td>\n",
       "      <td>Stroll On (From \"Blow Up\") - 2015 Remaster</td>\n",
       "      <td>39</td>\n",
       "      <td>0.395</td>\n",
       "      <td>0.897</td>\n",
       "      <td>-8.778</td>\n",
       "      <td>0.11</td>\n",
       "      <td>0.056</td>\n",
       "      <td>0.000657</td>\n",
       "      <td>0.109</td>\n",
       "      <td>0.307</td>\n",
       "      <td>91.226</td>\n",
       "    </tr>\n",
       "  </tbody>\n",
       "</table>\n",
       "</div>"
      ],
      "text/plain": [
       "                                             artists  \\\n",
       "0  [{'external_urls': {'spotify': 'https://open.s...   \n",
       "\n",
       "                                         name  popularity  danceability  \\\n",
       "0  Stroll On (From \"Blow Up\") - 2015 Remaster          39         0.395   \n",
       "\n",
       "   energy  loudness  speechiness  acousticness  instrumentalness  liveness  \\\n",
       "0   0.897    -8.778         0.11         0.056          0.000657     0.109   \n",
       "\n",
       "   valence   tempo  \n",
       "0    0.307  91.226  "
      ]
     },
     "execution_count": 34,
     "metadata": {},
     "output_type": "execute_result"
    }
   ],
   "source": [
    "id_frame = id_frame.drop(columns=['album', 'available_markets', 'disc_number', 'duration_ms_x', 'explicit', 'external_ids', 'external_urls', 'href', 'id', 'is_local', 'preview_url', 'track_number', 'type_x', 'uri_x', 'key', 'mode', 'type_y', 'uri_y', 'track_href', 'analysis_url', 'duration_ms_y', 'time_signature'])\n",
    "id_frame.head(1)"
   ]
  },
  {
   "cell_type": "markdown",
   "id": "e0f046f5",
   "metadata": {},
   "source": [
    "<p>Previously we had navigated through some of our data to find data relevant for making our dataframe easy to digest. Let's use x for x list comprehension to make lists and then columns of our frame out of this data.</p>"
   ]
  },
  {
   "cell_type": "code",
   "execution_count": 35,
   "id": "7273f8d9",
   "metadata": {},
   "outputs": [],
   "source": [
    "id_frame['artists'] = artist_list = [x['artists'][0]['name'] for x in pf_rec_data['tracks']]\n",
    "id_frame['popularity'] = pop_list = [x['popularity'] for x in pf_rec_data['tracks']]"
   ]
  },
  {
   "cell_type": "markdown",
   "id": "bc6d94fa",
   "metadata": {},
   "source": [
    "<p>We can do the same for the audio features data we took a look at earlier. Not all of the audio features are included, such as key and mode, are not included because they don't reflect the musical qualities that the average listener is likely thinking about while listening to a song.</p>"
   ]
  },
  {
   "cell_type": "code",
   "execution_count": 36,
   "id": "43672108",
   "metadata": {},
   "outputs": [],
   "source": [
    "id_frame['danceability'] = dance_list = [x['danceability'] for x in rec_feat_data['audio_features']]\n",
    "id_frame['energy'] = energy_list = [x['energy'] for x in rec_feat_data['audio_features']]\n",
    "id_frame['loudness'] = loudness_list = [x['loudness'] for x in rec_feat_data['audio_features']]\n",
    "id_frame['speechiness'] = speechiness_list = [x['speechiness'] for x in rec_feat_data['audio_features']]\n",
    "id_frame['acousticness'] = acousticness_list = [x['acousticness'] for x in rec_feat_data['audio_features']]\n",
    "id_frame['instrumentalness'] = instrumentalness_list = [x['instrumentalness'] for x in rec_feat_data['audio_features']]\n",
    "id_frame['liveness'] = liveness_list = [x['liveness'] for x in rec_feat_data['audio_features']]\n",
    "id_frame['valence'] = valence_list = [x['valence'] for x in rec_feat_data['audio_features']]\n",
    "id_frame['tempo'] = tempo_list = [x['tempo'] for x in rec_feat_data['audio_features']]"
   ]
  },
  {
   "cell_type": "markdown",
   "id": "41828b19",
   "metadata": {},
   "source": [
    "<p>Now that we have all of these columns lined up for our frame, let's generate it.</p>"
   ]
  },
  {
   "cell_type": "code",
   "execution_count": 37,
   "id": "f07c6c61",
   "metadata": {
    "scrolled": true
   },
   "outputs": [
    {
     "data": {
      "text/html": [
       "<div>\n",
       "<style scoped>\n",
       "    .dataframe tbody tr th:only-of-type {\n",
       "        vertical-align: middle;\n",
       "    }\n",
       "\n",
       "    .dataframe tbody tr th {\n",
       "        vertical-align: top;\n",
       "    }\n",
       "\n",
       "    .dataframe thead th {\n",
       "        text-align: right;\n",
       "    }\n",
       "</style>\n",
       "<table border=\"1\" class=\"dataframe\">\n",
       "  <thead>\n",
       "    <tr style=\"text-align: right;\">\n",
       "      <th></th>\n",
       "      <th>artists</th>\n",
       "      <th>name</th>\n",
       "      <th>popularity</th>\n",
       "      <th>danceability</th>\n",
       "      <th>energy</th>\n",
       "      <th>loudness</th>\n",
       "      <th>speechiness</th>\n",
       "      <th>acousticness</th>\n",
       "      <th>instrumentalness</th>\n",
       "      <th>liveness</th>\n",
       "      <th>valence</th>\n",
       "      <th>tempo</th>\n",
       "    </tr>\n",
       "  </thead>\n",
       "  <tbody>\n",
       "    <tr>\n",
       "      <th>0</th>\n",
       "      <td>The Yardbirds</td>\n",
       "      <td>Stroll On (From \"Blow Up\") - 2015 Remaster</td>\n",
       "      <td>39</td>\n",
       "      <td>0.395</td>\n",
       "      <td>0.897</td>\n",
       "      <td>-8.778</td>\n",
       "      <td>0.1100</td>\n",
       "      <td>0.056000</td>\n",
       "      <td>0.000657</td>\n",
       "      <td>0.1090</td>\n",
       "      <td>0.307</td>\n",
       "      <td>91.226</td>\n",
       "    </tr>\n",
       "    <tr>\n",
       "      <th>1</th>\n",
       "      <td>Blue Öyster Cult</td>\n",
       "      <td>Cities On Flame with Rock and Roll</td>\n",
       "      <td>56</td>\n",
       "      <td>0.337</td>\n",
       "      <td>0.886</td>\n",
       "      <td>-8.607</td>\n",
       "      <td>0.0980</td>\n",
       "      <td>0.071600</td>\n",
       "      <td>0.001560</td>\n",
       "      <td>0.2040</td>\n",
       "      <td>0.648</td>\n",
       "      <td>177.713</td>\n",
       "    </tr>\n",
       "    <tr>\n",
       "      <th>2</th>\n",
       "      <td>Cream</td>\n",
       "      <td>Tales Of Brave Ulysses</td>\n",
       "      <td>57</td>\n",
       "      <td>0.538</td>\n",
       "      <td>0.476</td>\n",
       "      <td>-9.215</td>\n",
       "      <td>0.0490</td>\n",
       "      <td>0.017800</td>\n",
       "      <td>0.000043</td>\n",
       "      <td>0.1010</td>\n",
       "      <td>0.188</td>\n",
       "      <td>105.642</td>\n",
       "    </tr>\n",
       "    <tr>\n",
       "      <th>3</th>\n",
       "      <td>The Kinks</td>\n",
       "      <td>Big Sky - 2018 Stereo Remaster</td>\n",
       "      <td>35</td>\n",
       "      <td>0.553</td>\n",
       "      <td>0.798</td>\n",
       "      <td>-7.405</td>\n",
       "      <td>0.0274</td>\n",
       "      <td>0.006590</td>\n",
       "      <td>0.000612</td>\n",
       "      <td>0.0923</td>\n",
       "      <td>0.560</td>\n",
       "      <td>98.285</td>\n",
       "    </tr>\n",
       "    <tr>\n",
       "      <th>4</th>\n",
       "      <td>Pink Floyd</td>\n",
       "      <td>Childhood's End - 2011 Remastered Version</td>\n",
       "      <td>42</td>\n",
       "      <td>0.672</td>\n",
       "      <td>0.321</td>\n",
       "      <td>-16.789</td>\n",
       "      <td>0.0435</td>\n",
       "      <td>0.136000</td>\n",
       "      <td>0.000046</td>\n",
       "      <td>0.0934</td>\n",
       "      <td>0.202</td>\n",
       "      <td>125.041</td>\n",
       "    </tr>\n",
       "    <tr>\n",
       "      <th>5</th>\n",
       "      <td>Funkadelic</td>\n",
       "      <td>Mommy, What's A Funkadelic?</td>\n",
       "      <td>32</td>\n",
       "      <td>0.357</td>\n",
       "      <td>0.654</td>\n",
       "      <td>-11.957</td>\n",
       "      <td>0.0773</td>\n",
       "      <td>0.469000</td>\n",
       "      <td>0.001320</td>\n",
       "      <td>0.6270</td>\n",
       "      <td>0.641</td>\n",
       "      <td>146.176</td>\n",
       "    </tr>\n",
       "    <tr>\n",
       "      <th>6</th>\n",
       "      <td>Led Zeppelin</td>\n",
       "      <td>When the Levee Breaks - Remaster</td>\n",
       "      <td>65</td>\n",
       "      <td>0.271</td>\n",
       "      <td>0.766</td>\n",
       "      <td>-8.030</td>\n",
       "      <td>0.0329</td>\n",
       "      <td>0.002170</td>\n",
       "      <td>0.520000</td>\n",
       "      <td>0.0707</td>\n",
       "      <td>0.803</td>\n",
       "      <td>142.914</td>\n",
       "    </tr>\n",
       "    <tr>\n",
       "      <th>7</th>\n",
       "      <td>Strawberry Alarm Clock</td>\n",
       "      <td>Pretty Song From Psych-Out</td>\n",
       "      <td>27</td>\n",
       "      <td>0.513</td>\n",
       "      <td>0.460</td>\n",
       "      <td>-10.609</td>\n",
       "      <td>0.0292</td>\n",
       "      <td>0.247000</td>\n",
       "      <td>0.000000</td>\n",
       "      <td>0.1220</td>\n",
       "      <td>0.661</td>\n",
       "      <td>110.859</td>\n",
       "    </tr>\n",
       "    <tr>\n",
       "      <th>8</th>\n",
       "      <td>The Zodiac</td>\n",
       "      <td>Aries - The Fire Fighter</td>\n",
       "      <td>17</td>\n",
       "      <td>0.336</td>\n",
       "      <td>0.655</td>\n",
       "      <td>-9.521</td>\n",
       "      <td>0.0624</td>\n",
       "      <td>0.364000</td>\n",
       "      <td>0.370000</td>\n",
       "      <td>0.1140</td>\n",
       "      <td>0.446</td>\n",
       "      <td>89.632</td>\n",
       "    </tr>\n",
       "    <tr>\n",
       "      <th>9</th>\n",
       "      <td>Syd Barrett</td>\n",
       "      <td>Octopus</td>\n",
       "      <td>36</td>\n",
       "      <td>0.584</td>\n",
       "      <td>0.445</td>\n",
       "      <td>-11.226</td>\n",
       "      <td>0.0342</td>\n",
       "      <td>0.446000</td>\n",
       "      <td>0.000002</td>\n",
       "      <td>0.1300</td>\n",
       "      <td>0.510</td>\n",
       "      <td>88.161</td>\n",
       "    </tr>\n",
       "    <tr>\n",
       "      <th>10</th>\n",
       "      <td>The Dirty Mac</td>\n",
       "      <td>Yer Blues - Remastered 2018</td>\n",
       "      <td>51</td>\n",
       "      <td>0.298</td>\n",
       "      <td>0.831</td>\n",
       "      <td>-7.256</td>\n",
       "      <td>0.1170</td>\n",
       "      <td>0.005800</td>\n",
       "      <td>0.288000</td>\n",
       "      <td>0.6370</td>\n",
       "      <td>0.724</td>\n",
       "      <td>157.170</td>\n",
       "    </tr>\n",
       "    <tr>\n",
       "      <th>11</th>\n",
       "      <td>Ultimate Spinach</td>\n",
       "      <td>Mind Flowers</td>\n",
       "      <td>41</td>\n",
       "      <td>0.255</td>\n",
       "      <td>0.427</td>\n",
       "      <td>-10.235</td>\n",
       "      <td>0.0292</td>\n",
       "      <td>0.296000</td>\n",
       "      <td>0.459000</td>\n",
       "      <td>0.1280</td>\n",
       "      <td>0.175</td>\n",
       "      <td>156.947</td>\n",
       "    </tr>\n",
       "    <tr>\n",
       "      <th>12</th>\n",
       "      <td>Joy Division</td>\n",
       "      <td>Leaders of Men - 2010 Remaster</td>\n",
       "      <td>45</td>\n",
       "      <td>0.519</td>\n",
       "      <td>0.662</td>\n",
       "      <td>-10.643</td>\n",
       "      <td>0.0442</td>\n",
       "      <td>0.198000</td>\n",
       "      <td>0.000000</td>\n",
       "      <td>0.1120</td>\n",
       "      <td>0.820</td>\n",
       "      <td>140.742</td>\n",
       "    </tr>\n",
       "    <tr>\n",
       "      <th>13</th>\n",
       "      <td>Blue Öyster Cult</td>\n",
       "      <td>Transmaniacon MC</td>\n",
       "      <td>45</td>\n",
       "      <td>0.453</td>\n",
       "      <td>0.757</td>\n",
       "      <td>-10.067</td>\n",
       "      <td>0.0326</td>\n",
       "      <td>0.087700</td>\n",
       "      <td>0.308000</td>\n",
       "      <td>0.2420</td>\n",
       "      <td>0.755</td>\n",
       "      <td>143.053</td>\n",
       "    </tr>\n",
       "    <tr>\n",
       "      <th>14</th>\n",
       "      <td>Gentle Giant</td>\n",
       "      <td>Wreck</td>\n",
       "      <td>34</td>\n",
       "      <td>0.480</td>\n",
       "      <td>0.449</td>\n",
       "      <td>-15.153</td>\n",
       "      <td>0.0582</td>\n",
       "      <td>0.197000</td>\n",
       "      <td>0.000526</td>\n",
       "      <td>0.2700</td>\n",
       "      <td>0.373</td>\n",
       "      <td>141.027</td>\n",
       "    </tr>\n",
       "    <tr>\n",
       "      <th>15</th>\n",
       "      <td>The Mothers Of Invention</td>\n",
       "      <td>I Ain't Got No Heart</td>\n",
       "      <td>28</td>\n",
       "      <td>0.378</td>\n",
       "      <td>0.643</td>\n",
       "      <td>-11.453</td>\n",
       "      <td>0.0439</td>\n",
       "      <td>0.244000</td>\n",
       "      <td>0.000002</td>\n",
       "      <td>0.2600</td>\n",
       "      <td>0.496</td>\n",
       "      <td>134.423</td>\n",
       "    </tr>\n",
       "    <tr>\n",
       "      <th>16</th>\n",
       "      <td>Buffalo Springfield</td>\n",
       "      <td>Mr. Soul</td>\n",
       "      <td>60</td>\n",
       "      <td>0.674</td>\n",
       "      <td>0.706</td>\n",
       "      <td>-9.012</td>\n",
       "      <td>0.0384</td>\n",
       "      <td>0.108000</td>\n",
       "      <td>0.000006</td>\n",
       "      <td>0.1140</td>\n",
       "      <td>0.961</td>\n",
       "      <td>133.789</td>\n",
       "    </tr>\n",
       "    <tr>\n",
       "      <th>17</th>\n",
       "      <td>Joy Division</td>\n",
       "      <td>Day of the Lords - 2007 Remaster</td>\n",
       "      <td>49</td>\n",
       "      <td>0.317</td>\n",
       "      <td>0.599</td>\n",
       "      <td>-8.434</td>\n",
       "      <td>0.0321</td>\n",
       "      <td>0.000019</td>\n",
       "      <td>0.897000</td>\n",
       "      <td>0.1220</td>\n",
       "      <td>0.113</td>\n",
       "      <td>124.492</td>\n",
       "    </tr>\n",
       "    <tr>\n",
       "      <th>18</th>\n",
       "      <td>The Rolling Stones</td>\n",
       "      <td>Under My Thumb</td>\n",
       "      <td>67</td>\n",
       "      <td>0.732</td>\n",
       "      <td>0.494</td>\n",
       "      <td>-13.571</td>\n",
       "      <td>0.0406</td>\n",
       "      <td>0.299000</td>\n",
       "      <td>0.205000</td>\n",
       "      <td>0.0919</td>\n",
       "      <td>0.799</td>\n",
       "      <td>126.986</td>\n",
       "    </tr>\n",
       "    <tr>\n",
       "      <th>19</th>\n",
       "      <td>Pink Floyd</td>\n",
       "      <td>The Nile Song - 2011 Remaster</td>\n",
       "      <td>35</td>\n",
       "      <td>0.135</td>\n",
       "      <td>0.728</td>\n",
       "      <td>-11.905</td>\n",
       "      <td>0.0443</td>\n",
       "      <td>0.012600</td>\n",
       "      <td>0.149000</td>\n",
       "      <td>0.0439</td>\n",
       "      <td>0.352</td>\n",
       "      <td>177.283</td>\n",
       "    </tr>\n",
       "  </tbody>\n",
       "</table>\n",
       "</div>"
      ],
      "text/plain": [
       "                     artists                                        name  \\\n",
       "0              The Yardbirds  Stroll On (From \"Blow Up\") - 2015 Remaster   \n",
       "1           Blue Öyster Cult          Cities On Flame with Rock and Roll   \n",
       "2                      Cream                      Tales Of Brave Ulysses   \n",
       "3                  The Kinks              Big Sky - 2018 Stereo Remaster   \n",
       "4                 Pink Floyd   Childhood's End - 2011 Remastered Version   \n",
       "5                 Funkadelic                 Mommy, What's A Funkadelic?   \n",
       "6               Led Zeppelin            When the Levee Breaks - Remaster   \n",
       "7     Strawberry Alarm Clock                  Pretty Song From Psych-Out   \n",
       "8                 The Zodiac                    Aries - The Fire Fighter   \n",
       "9                Syd Barrett                                     Octopus   \n",
       "10             The Dirty Mac                 Yer Blues - Remastered 2018   \n",
       "11          Ultimate Spinach                                Mind Flowers   \n",
       "12              Joy Division              Leaders of Men - 2010 Remaster   \n",
       "13          Blue Öyster Cult                            Transmaniacon MC   \n",
       "14              Gentle Giant                                       Wreck   \n",
       "15  The Mothers Of Invention                        I Ain't Got No Heart   \n",
       "16       Buffalo Springfield                                    Mr. Soul   \n",
       "17              Joy Division            Day of the Lords - 2007 Remaster   \n",
       "18        The Rolling Stones                              Under My Thumb   \n",
       "19                Pink Floyd               The Nile Song - 2011 Remaster   \n",
       "\n",
       "    popularity  danceability  energy  loudness  speechiness  acousticness  \\\n",
       "0           39         0.395   0.897    -8.778       0.1100      0.056000   \n",
       "1           56         0.337   0.886    -8.607       0.0980      0.071600   \n",
       "2           57         0.538   0.476    -9.215       0.0490      0.017800   \n",
       "3           35         0.553   0.798    -7.405       0.0274      0.006590   \n",
       "4           42         0.672   0.321   -16.789       0.0435      0.136000   \n",
       "5           32         0.357   0.654   -11.957       0.0773      0.469000   \n",
       "6           65         0.271   0.766    -8.030       0.0329      0.002170   \n",
       "7           27         0.513   0.460   -10.609       0.0292      0.247000   \n",
       "8           17         0.336   0.655    -9.521       0.0624      0.364000   \n",
       "9           36         0.584   0.445   -11.226       0.0342      0.446000   \n",
       "10          51         0.298   0.831    -7.256       0.1170      0.005800   \n",
       "11          41         0.255   0.427   -10.235       0.0292      0.296000   \n",
       "12          45         0.519   0.662   -10.643       0.0442      0.198000   \n",
       "13          45         0.453   0.757   -10.067       0.0326      0.087700   \n",
       "14          34         0.480   0.449   -15.153       0.0582      0.197000   \n",
       "15          28         0.378   0.643   -11.453       0.0439      0.244000   \n",
       "16          60         0.674   0.706    -9.012       0.0384      0.108000   \n",
       "17          49         0.317   0.599    -8.434       0.0321      0.000019   \n",
       "18          67         0.732   0.494   -13.571       0.0406      0.299000   \n",
       "19          35         0.135   0.728   -11.905       0.0443      0.012600   \n",
       "\n",
       "    instrumentalness  liveness  valence    tempo  \n",
       "0           0.000657    0.1090    0.307   91.226  \n",
       "1           0.001560    0.2040    0.648  177.713  \n",
       "2           0.000043    0.1010    0.188  105.642  \n",
       "3           0.000612    0.0923    0.560   98.285  \n",
       "4           0.000046    0.0934    0.202  125.041  \n",
       "5           0.001320    0.6270    0.641  146.176  \n",
       "6           0.520000    0.0707    0.803  142.914  \n",
       "7           0.000000    0.1220    0.661  110.859  \n",
       "8           0.370000    0.1140    0.446   89.632  \n",
       "9           0.000002    0.1300    0.510   88.161  \n",
       "10          0.288000    0.6370    0.724  157.170  \n",
       "11          0.459000    0.1280    0.175  156.947  \n",
       "12          0.000000    0.1120    0.820  140.742  \n",
       "13          0.308000    0.2420    0.755  143.053  \n",
       "14          0.000526    0.2700    0.373  141.027  \n",
       "15          0.000002    0.2600    0.496  134.423  \n",
       "16          0.000006    0.1140    0.961  133.789  \n",
       "17          0.897000    0.1220    0.113  124.492  \n",
       "18          0.205000    0.0919    0.799  126.986  \n",
       "19          0.149000    0.0439    0.352  177.283  "
      ]
     },
     "execution_count": 37,
     "metadata": {},
     "output_type": "execute_result"
    }
   ],
   "source": [
    "id_frame"
   ]
  },
  {
   "cell_type": "markdown",
   "id": "202002d3",
   "metadata": {},
   "source": [
    "<h3>Data analysis</h3>\n",
    "\n",
    "<p>The Spotify API pages for <a href=\"https://developer.spotify.com/documentation/web-api/reference/get-recommendations\">getting recommendations</a> and <a href=\"https://developer.spotify.com/documentation/web-api/reference/get-several-audio-features\">getting audio features</a> give definitions for what each of the values mean that can help us analyze our data table.</p>\n",
    "\n",
    "<p>Every time the data is run, it generates a new set of recommendations. This data analysis is based on the screenshot of the dataframe below from the first ten songs.</p>"
   ]
  },
  {
   "cell_type": "markdown",
   "id": "4cfd8749",
   "metadata": {},
   "source": [
    "<img src=\"api_table.png\" alt=\"API table\" />"
   ]
  },
  {
   "cell_type": "markdown",
   "id": "110e6028",
   "metadata": {},
   "source": [
    "<h4>Popularity</h4>\n",
    "\n",
    "<p>Popularity is measured on a scale of 0-100 with 100 being the most popular. The value is time relative and is mostly based on \"the total number of plays the track has had and how recent those plays are\".</p>\n",
    "\n",
    "<ul>\n",
    "    <li>The popularities of the recommended tracks range from 21 (quite unpopular) to 68, with a range of 47. Reduced to a scale of 0.0-1.0 like most of the audio features, The range would be 0.47.</li>\n",
    "</ul>\n",
    "  \n",
    "<h4>Audio Features</h4>\n",
    "\n",
    "<p>Acousticness, danceability, energy, instrumentalness, liveliness, speechiness, and valence (<a href=\"https://community.spotify.com/t5/Spotify-for-Developers/Valence-as-a-measure-of-happiness/td-p/4385221\">\"musical happiness\"</a>) are measured on a scale of 0.0-1.0 with 1.0 being the the highest detected amount of the quality being measured. Loudness is measured in decibels and tempo is the estimated beats per minute.</p>\n",
    "\n",
    "<p>To examine a few choice audio features for simplicity's sake,</p>\n",
    "\n",
    "<ul>\n",
    "    <li>the danceability range from 0.293 to 0.677, with a range of 0.384.</li>\n",
    "    <li>the energy range from 0.176 to 0.918; counting out the outliers of 0.176 and 0.265, the range is 0.585.</li>\n",
    "    <li>the speechiness range from 0.0270 to 0.2060, with a range of 0.179.</li>\n",
    "    <li>the acousticness range from 0.0134 to 0.6790, with a range of 0.6656.</li>\n",
    "    <li>the instrumentalness range from 0.0 to 0.483.</li>\n",
    "    <li>the liveness range from 0.0593 to 0.6070; counting out the outlier of 0.6070, the range is 0.3187.</li>\n",
    "    <li>the valence range from 0.208 to 0.833; counting out the outliers of 0.208 and 0.287, the range is 0.474.</li>\n",
    "</ul>"
   ]
  },
  {
   "cell_type": "markdown",
   "id": "bb870d34",
   "metadata": {},
   "source": [
    "<h4>Conclusion</h4>\n",
    "\n",
    "<p>The recommended tracks had varying degrees of popularity and varying measures of certain audio attributes. Most audio attributes had a range between 0.30 and 0.50, with the range of popularities at the high end. Across the board, the individual features of tracks varied, making it difficult to draw any conclusion about how any one feature determines that a track will be recommended. There isn't much of a linear answer to the hypothesis other than that there are other, more complex factors at play in the Spotify algorithm when generating recommended tracks.</p>\n",
    "\n",
    "<p>The tracks can all be contained under the umbrella of psychedelic rock, and most (except for a random Tame Impala song) are from the era of the late 1960s and early 1970s, which would be expected, despite the often drastic variations of \"audio features\" measurements between tracks. Hence, examining audio features is not a very good way of gauging the actual sonics of a song.</p>\n",
    "\n",
    "<p>It could be interesting to see how many of these songs are on playlists together considering the genre similarity, especially the outlier from Tame Impala, a modern group (who I've never even listened to, so I'm not sure why Spotify is recommending them to me specifically!).\n",
    "\n",
    "<p>The variation between certain audio features in relation to each other would also be an interesting area to explore. I am interested in that the tracks greatly range in instrumentalness, but are quite close in terms of speechiness, likely lending to often-somewhat-buried vocals in psychedelic music. This could be explore how Spotify detects different audio features based on music genre and sonics. Audio features may not predict sonics, but sonics determine audio features, so how does Spotify's detection of certain features vary from genre to genre?</p>"
   ]
  },
  {
   "cell_type": "code",
   "execution_count": null,
   "id": "2f7f033f",
   "metadata": {},
   "outputs": [],
   "source": []
  }
 ],
 "metadata": {
  "kernelspec": {
   "display_name": "Python 3 (ipykernel)",
   "language": "python",
   "name": "python3"
  },
  "language_info": {
   "codemirror_mode": {
    "name": "ipython",
    "version": 3
   },
   "file_extension": ".py",
   "mimetype": "text/x-python",
   "name": "python",
   "nbconvert_exporter": "python",
   "pygments_lexer": "ipython3",
   "version": "3.11.4"
  }
 },
 "nbformat": 4,
 "nbformat_minor": 5
}
