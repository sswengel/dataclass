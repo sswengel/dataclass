{
 "cells": [
  {
   "cell_type": "markdown",
   "id": "87122bc0",
   "metadata": {},
   "source": [
    "<h1>Data in EMAT Class</h1>\n",
    "<h2>Name: Sophia Swengel</h2>\n",
    "\n",
    "<h4>What I Hope to get out of this class</h4>\n",
    "<ol>\n",
    "    <li>A better understanding of code</li>\n",
    "    <li>New experience with a new way of coding</li>\n",
    "    <li>A new way of looking at data</li>\n",
    "    <li>A generally pretty interesting time!</li>\n",
    "</ol>"
   ]
  },
  {
   "cell_type": "code",
   "execution_count": 1,
   "id": "77a14e0b",
   "metadata": {},
   "outputs": [
    {
     "data": {
      "text/plain": [
       "7"
      ]
     },
     "execution_count": 1,
     "metadata": {},
     "output_type": "execute_result"
    }
   ],
   "source": [
    "x = 7\n",
    "x"
   ]
  },
  {
   "cell_type": "markdown",
   "id": "eb33f592",
   "metadata": {},
   "source": [
    "<img src=\"images/7213.jpg\" />"
   ]
  },
  {
   "cell_type": "markdown",
   "id": "f6f64b9d",
   "metadata": {},
   "source": [
    "<p>Fun fun fun</p>"
   ]
  }
 ],
 "metadata": {
  "kernelspec": {
   "display_name": "Python 3 (ipykernel)",
   "language": "python",
   "name": "python3"
  },
  "language_info": {
   "codemirror_mode": {
    "name": "ipython",
    "version": 3
   },
   "file_extension": ".py",
   "mimetype": "text/x-python",
   "name": "python",
   "nbconvert_exporter": "python",
   "pygments_lexer": "ipython3",
   "version": "3.11.4"
  }
 },
 "nbformat": 4,
 "nbformat_minor": 5
}
